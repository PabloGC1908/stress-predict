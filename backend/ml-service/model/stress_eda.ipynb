{
 "cells": [
  {
   "cell_type": "code",
   "id": "initial_id",
   "metadata": {
    "collapsed": true,
    "ExecuteTime": {
     "end_time": "2025-05-24T15:25:53.836545Z",
     "start_time": "2025-05-24T15:25:53.809548Z"
    }
   },
   "source": [
    "import pandas as pd\n",
    "import numpy as np\n",
    "import matplotlib.pyplot as plt\n",
    "import seaborn as sns\n",
    "from scipy import stats\n",
    "from statsmodels.distributions.empirical_distribution import ECDF\n",
    "from statsmodels.stats.outliers_influence import variance_inflation_factor\n",
    "from sklearn.feature_selection import mutual_info_classif\n",
    "from sklearn.decomposition import PCA\n",
    "from sklearn.model_selection import train_test_split, StratifiedKFold\n",
    "\n",
    "sns.set_style('darkgrid')\n",
    "\n",
    "import warnings\n",
    "warnings.filterwarnings('ignore')"
   ],
   "outputs": [],
   "execution_count": 19
  },
  {
   "metadata": {},
   "cell_type": "markdown",
   "source": [
    "# Variables a tomar en cuenta\n",
    "\n",
    "- Study_Hours_Per_day"
   ],
   "id": "e9c0e304be420c4e"
  },
  {
   "metadata": {
    "ExecuteTime": {
     "end_time": "2025-05-24T15:25:53.885523Z",
     "start_time": "2025-05-24T15:25:53.865349Z"
    }
   },
   "cell_type": "code",
   "source": [
    "df = pd.read_csv(\"./dataset/student_lifestyle_dataset.csv\")\n",
    "df"
   ],
   "id": "7226e7b770ad7e07",
   "outputs": [
    {
     "data": {
      "text/plain": [
       "      Student_ID  Study_Hours_Per_Day  Extracurricular_Hours_Per_Day  \\\n",
       "0              1                  6.9                            3.8   \n",
       "1              2                  5.3                            3.5   \n",
       "2              3                  5.1                            3.9   \n",
       "3              4                  6.5                            2.1   \n",
       "4              5                  8.1                            0.6   \n",
       "...          ...                  ...                            ...   \n",
       "1995        1996                  6.5                            0.2   \n",
       "1996        1997                  6.3                            2.8   \n",
       "1997        1998                  6.2                            0.0   \n",
       "1998        1999                  8.1                            0.7   \n",
       "1999        2000                  9.0                            1.7   \n",
       "\n",
       "      Sleep_Hours_Per_Day  Social_Hours_Per_Day  \\\n",
       "0                     8.7                   2.8   \n",
       "1                     8.0                   4.2   \n",
       "2                     9.2                   1.2   \n",
       "3                     7.2                   1.7   \n",
       "4                     6.5                   2.2   \n",
       "...                   ...                   ...   \n",
       "1995                  7.4                   2.1   \n",
       "1996                  8.8                   1.5   \n",
       "1997                  6.2                   0.8   \n",
       "1998                  7.6                   3.5   \n",
       "1999                  7.3                   3.1   \n",
       "\n",
       "      Physical_Activity_Hours_Per_Day   GPA Stress_Level  \n",
       "0                                 1.8  2.99     Moderate  \n",
       "1                                 3.0  2.75          Low  \n",
       "2                                 4.6  2.67          Low  \n",
       "3                                 6.5  2.88     Moderate  \n",
       "4                                 6.6  3.51         High  \n",
       "...                               ...   ...          ...  \n",
       "1995                              7.8  3.32     Moderate  \n",
       "1996                              4.6  2.65     Moderate  \n",
       "1997                             10.8  3.14     Moderate  \n",
       "1998                              4.1  3.04         High  \n",
       "1999                              2.9  3.58         High  \n",
       "\n",
       "[2000 rows x 8 columns]"
      ],
      "text/html": [
       "<div>\n",
       "<style scoped>\n",
       "    .dataframe tbody tr th:only-of-type {\n",
       "        vertical-align: middle;\n",
       "    }\n",
       "\n",
       "    .dataframe tbody tr th {\n",
       "        vertical-align: top;\n",
       "    }\n",
       "\n",
       "    .dataframe thead th {\n",
       "        text-align: right;\n",
       "    }\n",
       "</style>\n",
       "<table border=\"1\" class=\"dataframe\">\n",
       "  <thead>\n",
       "    <tr style=\"text-align: right;\">\n",
       "      <th></th>\n",
       "      <th>Student_ID</th>\n",
       "      <th>Study_Hours_Per_Day</th>\n",
       "      <th>Extracurricular_Hours_Per_Day</th>\n",
       "      <th>Sleep_Hours_Per_Day</th>\n",
       "      <th>Social_Hours_Per_Day</th>\n",
       "      <th>Physical_Activity_Hours_Per_Day</th>\n",
       "      <th>GPA</th>\n",
       "      <th>Stress_Level</th>\n",
       "    </tr>\n",
       "  </thead>\n",
       "  <tbody>\n",
       "    <tr>\n",
       "      <th>0</th>\n",
       "      <td>1</td>\n",
       "      <td>6.9</td>\n",
       "      <td>3.8</td>\n",
       "      <td>8.7</td>\n",
       "      <td>2.8</td>\n",
       "      <td>1.8</td>\n",
       "      <td>2.99</td>\n",
       "      <td>Moderate</td>\n",
       "    </tr>\n",
       "    <tr>\n",
       "      <th>1</th>\n",
       "      <td>2</td>\n",
       "      <td>5.3</td>\n",
       "      <td>3.5</td>\n",
       "      <td>8.0</td>\n",
       "      <td>4.2</td>\n",
       "      <td>3.0</td>\n",
       "      <td>2.75</td>\n",
       "      <td>Low</td>\n",
       "    </tr>\n",
       "    <tr>\n",
       "      <th>2</th>\n",
       "      <td>3</td>\n",
       "      <td>5.1</td>\n",
       "      <td>3.9</td>\n",
       "      <td>9.2</td>\n",
       "      <td>1.2</td>\n",
       "      <td>4.6</td>\n",
       "      <td>2.67</td>\n",
       "      <td>Low</td>\n",
       "    </tr>\n",
       "    <tr>\n",
       "      <th>3</th>\n",
       "      <td>4</td>\n",
       "      <td>6.5</td>\n",
       "      <td>2.1</td>\n",
       "      <td>7.2</td>\n",
       "      <td>1.7</td>\n",
       "      <td>6.5</td>\n",
       "      <td>2.88</td>\n",
       "      <td>Moderate</td>\n",
       "    </tr>\n",
       "    <tr>\n",
       "      <th>4</th>\n",
       "      <td>5</td>\n",
       "      <td>8.1</td>\n",
       "      <td>0.6</td>\n",
       "      <td>6.5</td>\n",
       "      <td>2.2</td>\n",
       "      <td>6.6</td>\n",
       "      <td>3.51</td>\n",
       "      <td>High</td>\n",
       "    </tr>\n",
       "    <tr>\n",
       "      <th>...</th>\n",
       "      <td>...</td>\n",
       "      <td>...</td>\n",
       "      <td>...</td>\n",
       "      <td>...</td>\n",
       "      <td>...</td>\n",
       "      <td>...</td>\n",
       "      <td>...</td>\n",
       "      <td>...</td>\n",
       "    </tr>\n",
       "    <tr>\n",
       "      <th>1995</th>\n",
       "      <td>1996</td>\n",
       "      <td>6.5</td>\n",
       "      <td>0.2</td>\n",
       "      <td>7.4</td>\n",
       "      <td>2.1</td>\n",
       "      <td>7.8</td>\n",
       "      <td>3.32</td>\n",
       "      <td>Moderate</td>\n",
       "    </tr>\n",
       "    <tr>\n",
       "      <th>1996</th>\n",
       "      <td>1997</td>\n",
       "      <td>6.3</td>\n",
       "      <td>2.8</td>\n",
       "      <td>8.8</td>\n",
       "      <td>1.5</td>\n",
       "      <td>4.6</td>\n",
       "      <td>2.65</td>\n",
       "      <td>Moderate</td>\n",
       "    </tr>\n",
       "    <tr>\n",
       "      <th>1997</th>\n",
       "      <td>1998</td>\n",
       "      <td>6.2</td>\n",
       "      <td>0.0</td>\n",
       "      <td>6.2</td>\n",
       "      <td>0.8</td>\n",
       "      <td>10.8</td>\n",
       "      <td>3.14</td>\n",
       "      <td>Moderate</td>\n",
       "    </tr>\n",
       "    <tr>\n",
       "      <th>1998</th>\n",
       "      <td>1999</td>\n",
       "      <td>8.1</td>\n",
       "      <td>0.7</td>\n",
       "      <td>7.6</td>\n",
       "      <td>3.5</td>\n",
       "      <td>4.1</td>\n",
       "      <td>3.04</td>\n",
       "      <td>High</td>\n",
       "    </tr>\n",
       "    <tr>\n",
       "      <th>1999</th>\n",
       "      <td>2000</td>\n",
       "      <td>9.0</td>\n",
       "      <td>1.7</td>\n",
       "      <td>7.3</td>\n",
       "      <td>3.1</td>\n",
       "      <td>2.9</td>\n",
       "      <td>3.58</td>\n",
       "      <td>High</td>\n",
       "    </tr>\n",
       "  </tbody>\n",
       "</table>\n",
       "<p>2000 rows × 8 columns</p>\n",
       "</div>"
      ]
     },
     "execution_count": 20,
     "metadata": {},
     "output_type": "execute_result"
    }
   ],
   "execution_count": 20
  },
  {
   "metadata": {
    "ExecuteTime": {
     "end_time": "2025-05-24T15:25:53.945095Z",
     "start_time": "2025-05-24T15:25:53.928908Z"
    }
   },
   "cell_type": "code",
   "source": "df.info()",
   "id": "a200442a0ceb62c4",
   "outputs": [
    {
     "name": "stdout",
     "output_type": "stream",
     "text": [
      "<class 'pandas.core.frame.DataFrame'>\n",
      "RangeIndex: 2000 entries, 0 to 1999\n",
      "Data columns (total 8 columns):\n",
      " #   Column                           Non-Null Count  Dtype  \n",
      "---  ------                           --------------  -----  \n",
      " 0   Student_ID                       2000 non-null   int64  \n",
      " 1   Study_Hours_Per_Day              2000 non-null   float64\n",
      " 2   Extracurricular_Hours_Per_Day    2000 non-null   float64\n",
      " 3   Sleep_Hours_Per_Day              2000 non-null   float64\n",
      " 4   Social_Hours_Per_Day             2000 non-null   float64\n",
      " 5   Physical_Activity_Hours_Per_Day  2000 non-null   float64\n",
      " 6   GPA                              2000 non-null   float64\n",
      " 7   Stress_Level                     2000 non-null   object \n",
      "dtypes: float64(6), int64(1), object(1)\n",
      "memory usage: 125.1+ KB\n"
     ]
    }
   ],
   "execution_count": 21
  },
  {
   "metadata": {
    "ExecuteTime": {
     "end_time": "2025-05-24T15:25:54.064685Z",
     "start_time": "2025-05-24T15:25:54.048557Z"
    }
   },
   "cell_type": "code",
   "source": "df.describe()",
   "id": "6ef82cb15f2c9b22",
   "outputs": [
    {
     "data": {
      "text/plain": [
       "        Student_ID  Study_Hours_Per_Day  Extracurricular_Hours_Per_Day  \\\n",
       "count  2000.000000          2000.000000                    2000.000000   \n",
       "mean   1000.500000             7.475800                       1.990100   \n",
       "std     577.494589             1.423888                       1.155855   \n",
       "min       1.000000             5.000000                       0.000000   \n",
       "25%     500.750000             6.300000                       1.000000   \n",
       "50%    1000.500000             7.400000                       2.000000   \n",
       "75%    1500.250000             8.700000                       3.000000   \n",
       "max    2000.000000            10.000000                       4.000000   \n",
       "\n",
       "       Sleep_Hours_Per_Day  Social_Hours_Per_Day  \\\n",
       "count          2000.000000           2000.000000   \n",
       "mean              7.501250              2.704550   \n",
       "std               1.460949              1.688514   \n",
       "min               5.000000              0.000000   \n",
       "25%               6.200000              1.200000   \n",
       "50%               7.500000              2.600000   \n",
       "75%               8.800000              4.100000   \n",
       "max              10.000000              6.000000   \n",
       "\n",
       "       Physical_Activity_Hours_Per_Day          GPA  \n",
       "count                       2000.00000  2000.000000  \n",
       "mean                           4.32830     3.115960  \n",
       "std                            2.51411     0.298674  \n",
       "min                            0.00000     2.240000  \n",
       "25%                            2.40000     2.900000  \n",
       "50%                            4.10000     3.110000  \n",
       "75%                            6.10000     3.330000  \n",
       "max                           13.00000     4.000000  "
      ],
      "text/html": [
       "<div>\n",
       "<style scoped>\n",
       "    .dataframe tbody tr th:only-of-type {\n",
       "        vertical-align: middle;\n",
       "    }\n",
       "\n",
       "    .dataframe tbody tr th {\n",
       "        vertical-align: top;\n",
       "    }\n",
       "\n",
       "    .dataframe thead th {\n",
       "        text-align: right;\n",
       "    }\n",
       "</style>\n",
       "<table border=\"1\" class=\"dataframe\">\n",
       "  <thead>\n",
       "    <tr style=\"text-align: right;\">\n",
       "      <th></th>\n",
       "      <th>Student_ID</th>\n",
       "      <th>Study_Hours_Per_Day</th>\n",
       "      <th>Extracurricular_Hours_Per_Day</th>\n",
       "      <th>Sleep_Hours_Per_Day</th>\n",
       "      <th>Social_Hours_Per_Day</th>\n",
       "      <th>Physical_Activity_Hours_Per_Day</th>\n",
       "      <th>GPA</th>\n",
       "    </tr>\n",
       "  </thead>\n",
       "  <tbody>\n",
       "    <tr>\n",
       "      <th>count</th>\n",
       "      <td>2000.000000</td>\n",
       "      <td>2000.000000</td>\n",
       "      <td>2000.000000</td>\n",
       "      <td>2000.000000</td>\n",
       "      <td>2000.000000</td>\n",
       "      <td>2000.00000</td>\n",
       "      <td>2000.000000</td>\n",
       "    </tr>\n",
       "    <tr>\n",
       "      <th>mean</th>\n",
       "      <td>1000.500000</td>\n",
       "      <td>7.475800</td>\n",
       "      <td>1.990100</td>\n",
       "      <td>7.501250</td>\n",
       "      <td>2.704550</td>\n",
       "      <td>4.32830</td>\n",
       "      <td>3.115960</td>\n",
       "    </tr>\n",
       "    <tr>\n",
       "      <th>std</th>\n",
       "      <td>577.494589</td>\n",
       "      <td>1.423888</td>\n",
       "      <td>1.155855</td>\n",
       "      <td>1.460949</td>\n",
       "      <td>1.688514</td>\n",
       "      <td>2.51411</td>\n",
       "      <td>0.298674</td>\n",
       "    </tr>\n",
       "    <tr>\n",
       "      <th>min</th>\n",
       "      <td>1.000000</td>\n",
       "      <td>5.000000</td>\n",
       "      <td>0.000000</td>\n",
       "      <td>5.000000</td>\n",
       "      <td>0.000000</td>\n",
       "      <td>0.00000</td>\n",
       "      <td>2.240000</td>\n",
       "    </tr>\n",
       "    <tr>\n",
       "      <th>25%</th>\n",
       "      <td>500.750000</td>\n",
       "      <td>6.300000</td>\n",
       "      <td>1.000000</td>\n",
       "      <td>6.200000</td>\n",
       "      <td>1.200000</td>\n",
       "      <td>2.40000</td>\n",
       "      <td>2.900000</td>\n",
       "    </tr>\n",
       "    <tr>\n",
       "      <th>50%</th>\n",
       "      <td>1000.500000</td>\n",
       "      <td>7.400000</td>\n",
       "      <td>2.000000</td>\n",
       "      <td>7.500000</td>\n",
       "      <td>2.600000</td>\n",
       "      <td>4.10000</td>\n",
       "      <td>3.110000</td>\n",
       "    </tr>\n",
       "    <tr>\n",
       "      <th>75%</th>\n",
       "      <td>1500.250000</td>\n",
       "      <td>8.700000</td>\n",
       "      <td>3.000000</td>\n",
       "      <td>8.800000</td>\n",
       "      <td>4.100000</td>\n",
       "      <td>6.10000</td>\n",
       "      <td>3.330000</td>\n",
       "    </tr>\n",
       "    <tr>\n",
       "      <th>max</th>\n",
       "      <td>2000.000000</td>\n",
       "      <td>10.000000</td>\n",
       "      <td>4.000000</td>\n",
       "      <td>10.000000</td>\n",
       "      <td>6.000000</td>\n",
       "      <td>13.00000</td>\n",
       "      <td>4.000000</td>\n",
       "    </tr>\n",
       "  </tbody>\n",
       "</table>\n",
       "</div>"
      ]
     },
     "execution_count": 22,
     "metadata": {},
     "output_type": "execute_result"
    }
   ],
   "execution_count": 22
  },
  {
   "metadata": {
    "ExecuteTime": {
     "end_time": "2025-05-24T15:25:54.147703Z",
     "start_time": "2025-05-24T15:25:54.142229Z"
    }
   },
   "cell_type": "code",
   "source": "df.isna().sum()",
   "id": "5207a51368feb787",
   "outputs": [
    {
     "data": {
      "text/plain": [
       "Student_ID                         0\n",
       "Study_Hours_Per_Day                0\n",
       "Extracurricular_Hours_Per_Day      0\n",
       "Sleep_Hours_Per_Day                0\n",
       "Social_Hours_Per_Day               0\n",
       "Physical_Activity_Hours_Per_Day    0\n",
       "GPA                                0\n",
       "Stress_Level                       0\n",
       "dtype: int64"
      ]
     },
     "execution_count": 23,
     "metadata": {},
     "output_type": "execute_result"
    }
   ],
   "execution_count": 23
  },
  {
   "metadata": {
    "ExecuteTime": {
     "end_time": "2025-05-24T15:25:54.356308Z",
     "start_time": "2025-05-24T15:25:54.277386Z"
    }
   },
   "cell_type": "code",
   "source": [
    "fig, ax = plt.subplots(figsize = (5, 3.7))\n",
    "\n",
    "sns.countplot(data = df,\n",
    "              x = 'Stress_Level',\n",
    "              edgecolor = 'black',\n",
    "              order = ['Low', 'Moderate', 'High'],\n",
    "              ax = ax)"
   ],
   "id": "be37ad292400fb6b",
   "outputs": [
    {
     "data": {
      "text/plain": [
       "<Axes: xlabel='Stress_Level', ylabel='count'>"
      ]
     },
     "execution_count": 24,
     "metadata": {},
     "output_type": "execute_result"
    },
    {
     "data": {
      "text/plain": [
       "<Figure size 500x370 with 1 Axes>"
      ],
      "image/png": "[encoded data removed]"
     },
     "metadata": {},
     "output_type": "display_data"
    }
   ],
   "execution_count": 24
  },
  {
   "metadata": {
    "ExecuteTime": {
     "end_time": "2025-05-24T15:25:54.411924Z",
     "start_time": "2025-05-24T15:25:54.409014Z"
    }
   },
   "cell_type": "code",
   "source": [
    "def X_y(data_input:pd.DataFrame, target:str):\n",
    "\n",
    "    data_input = data_input.drop('Student_ID', axis = 1)\n",
    "    X, y = data_input.drop(target, axis = 1), data_input[target]\n",
    "\n",
    "    return X,y"
   ],
   "id": "f44c47c7537129f8",
   "outputs": [],
   "execution_count": 25
  },
  {
   "metadata": {
    "ExecuteTime": {
     "end_time": "2025-05-24T15:25:54.497229Z",
     "start_time": "2025-05-24T15:25:54.487064Z"
    }
   },
   "cell_type": "code",
   "source": [
    "target = 'Stress_Level'\n",
    "\n",
    "X_train, y_train = X_y(df, target)\n",
    "X_test, y_test = X_y(df, target)\n",
    "\n",
    "X_train.head()"
   ],
   "id": "1ed194470a0752b2",
   "outputs": [
    {
     "data": {
      "text/plain": [
       "   Study_Hours_Per_Day  Extracurricular_Hours_Per_Day  Sleep_Hours_Per_Day  \\\n",
       "0                  6.9                            3.8                  8.7   \n",
       "1                  5.3                            3.5                  8.0   \n",
       "2                  5.1                            3.9                  9.2   \n",
       "3                  6.5                            2.1                  7.2   \n",
       "4                  8.1                            0.6                  6.5   \n",
       "\n",
       "   Social_Hours_Per_Day  Physical_Activity_Hours_Per_Day   GPA  \n",
       "0                   2.8                              1.8  2.99  \n",
       "1                   4.2                              3.0  2.75  \n",
       "2                   1.2                              4.6  2.67  \n",
       "3                   1.7                              6.5  2.88  \n",
       "4                   2.2                              6.6  3.51  "
      ],
      "text/html": [
       "<div>\n",
       "<style scoped>\n",
       "    .dataframe tbody tr th:only-of-type {\n",
       "        vertical-align: middle;\n",
       "    }\n",
       "\n",
       "    .dataframe tbody tr th {\n",
       "        vertical-align: top;\n",
       "    }\n",
       "\n",
       "    .dataframe thead th {\n",
       "        text-align: right;\n",
       "    }\n",
       "</style>\n",
       "<table border=\"1\" class=\"dataframe\">\n",
       "  <thead>\n",
       "    <tr style=\"text-align: right;\">\n",
       "      <th></th>\n",
       "      <th>Study_Hours_Per_Day</th>\n",
       "      <th>Extracurricular_Hours_Per_Day</th>\n",
       "      <th>Sleep_Hours_Per_Day</th>\n",
       "      <th>Social_Hours_Per_Day</th>\n",
       "      <th>Physical_Activity_Hours_Per_Day</th>\n",
       "      <th>GPA</th>\n",
       "    </tr>\n",
       "  </thead>\n",
       "  <tbody>\n",
       "    <tr>\n",
       "      <th>0</th>\n",
       "      <td>6.9</td>\n",
       "      <td>3.8</td>\n",
       "      <td>8.7</td>\n",
       "      <td>2.8</td>\n",
       "      <td>1.8</td>\n",
       "      <td>2.99</td>\n",
       "    </tr>\n",
       "    <tr>\n",
       "      <th>1</th>\n",
       "      <td>5.3</td>\n",
       "      <td>3.5</td>\n",
       "      <td>8.0</td>\n",
       "      <td>4.2</td>\n",
       "      <td>3.0</td>\n",
       "      <td>2.75</td>\n",
       "    </tr>\n",
       "    <tr>\n",
       "      <th>2</th>\n",
       "      <td>5.1</td>\n",
       "      <td>3.9</td>\n",
       "      <td>9.2</td>\n",
       "      <td>1.2</td>\n",
       "      <td>4.6</td>\n",
       "      <td>2.67</td>\n",
       "    </tr>\n",
       "    <tr>\n",
       "      <th>3</th>\n",
       "      <td>6.5</td>\n",
       "      <td>2.1</td>\n",
       "      <td>7.2</td>\n",
       "      <td>1.7</td>\n",
       "      <td>6.5</td>\n",
       "      <td>2.88</td>\n",
       "    </tr>\n",
       "    <tr>\n",
       "      <th>4</th>\n",
       "      <td>8.1</td>\n",
       "      <td>0.6</td>\n",
       "      <td>6.5</td>\n",
       "      <td>2.2</td>\n",
       "      <td>6.6</td>\n",
       "      <td>3.51</td>\n",
       "    </tr>\n",
       "  </tbody>\n",
       "</table>\n",
       "</div>"
      ]
     },
     "execution_count": 26,
     "metadata": {},
     "output_type": "execute_result"
    }
   ],
   "execution_count": 26
  },
  {
   "metadata": {
    "ExecuteTime": {
     "end_time": "2025-05-24T15:25:54.560844Z",
     "start_time": "2025-05-24T15:25:54.554703Z"
    }
   },
   "cell_type": "code",
   "source": [
    "# Encode the target variable.\n",
    "encode_target = {'Low':0, 'Moderate':1, 'High':2}\n",
    "\n",
    "y_train_encode = y_train.map(encode_target)\n",
    "y_test_encode = y_test.map(encode_target)"
   ],
   "id": "d4f38f98d9fc7978",
   "outputs": [],
   "execution_count": 27
  },
  {
   "metadata": {
    "ExecuteTime": {
     "end_time": "2025-05-24T15:25:54.751751Z",
     "start_time": "2025-05-24T15:25:54.708328Z"
    }
   },
   "cell_type": "code",
   "source": [
    "from sklearn.metrics import balanced_accuracy_score\n",
    "from sklearn.tree import DecisionTreeClassifier\n",
    "\n",
    "model = DecisionTreeClassifier(random_state = 42)\n",
    "\n",
    "sk = StratifiedKFold(n_splits = 5)\n",
    "\n",
    "scores_train = []\n",
    "scores_valid = []\n",
    "\n",
    "\n",
    "for i, (idx_train, idx_valid) in enumerate(sk.split(X_train, y_train)):\n",
    "\n",
    "    X_train_fold, X_valid_fold = X_train.iloc[idx_train], X_train.iloc[idx_valid]\n",
    "    y_train_fold, y_valid_fold = y_train_encode.iloc[idx_train], y_train_encode.iloc[idx_valid]\n",
    "\n",
    "    model.fit(X_train_fold, y_train_fold.values)\n",
    "\n",
    "    y_pred_train = model.predict(X_train_fold)\n",
    "    y_pred_valid = model.predict(X_valid_fold)\n",
    "\n",
    "    score_train = balanced_accuracy_score(y_train_fold, y_pred_train)\n",
    "    score_valid = balanced_accuracy_score(y_valid_fold, y_pred_valid)\n",
    "\n",
    "    scores_train.append(score_train)\n",
    "    scores_valid.append(score_valid)\n",
    "\n",
    "    print(f\"Fold N°{i+1}\\nBalanced Acc train: {score_train:.4f}\\nBalanced Acc valid: {score_valid:.4f}\\n\")\n",
    "print(f\"Balanced Accuracy train mean: {np.array(scores_train).mean():.4f}\\nBalanced Accuracy valid mean: {np.array(scores_valid).mean():.4f}\\n\")"
   ],
   "id": "9fdb66a0cebbc732",
   "outputs": [
    {
     "name": "stdout",
     "output_type": "stream",
     "text": [
      "Fold N°1\n",
      "Balanced Acc train: 1.0000\n",
      "Balanced Acc valid: 1.0000\n",
      "\n",
      "Fold N°2\n",
      "Balanced Acc train: 1.0000\n",
      "Balanced Acc valid: 1.0000\n",
      "\n",
      "Fold N°3\n",
      "Balanced Acc train: 1.0000\n",
      "Balanced Acc valid: 1.0000\n",
      "\n",
      "Fold N°4\n",
      "Balanced Acc train: 1.0000\n",
      "Balanced Acc valid: 1.0000\n",
      "\n",
      "Fold N°5\n",
      "Balanced Acc train: 1.0000\n",
      "Balanced Acc valid: 1.0000\n",
      "\n",
      "Balanced Accuracy train mean: 1.0000\n",
      "Balanced Accuracy valid mean: 1.0000\n",
      "\n"
     ]
    }
   ],
   "execution_count": 28
  },
  {
   "metadata": {
    "ExecuteTime": {
     "end_time": "2025-05-24T15:26:20.082389Z",
     "start_time": "2025-05-24T15:26:20.066480Z"
    }
   },
   "cell_type": "code",
   "source": [
    "model = DecisionTreeClassifier(random_state = 42)\n",
    "model.fit(X_train, y_train_encode)\n",
    "\n",
    "y_pred_test = model.predict(X_test)\n",
    "\n",
    "print(balanced_accuracy_score(y_test_encode, y_pred_test))"
   ],
   "id": "26e86b2671765150",
   "outputs": [
    {
     "name": "stdout",
     "output_type": "stream",
     "text": [
      "1.0\n"
     ]
    }
   ],
   "execution_count": 29
  },
  {
   "metadata": {
    "ExecuteTime": {
     "end_time": "2025-05-24T15:27:10.921351Z",
     "start_time": "2025-05-24T15:27:10.823924Z"
    }
   },
   "cell_type": "code",
   "source": [
    "from sklearn.metrics import confusion_matrix\n",
    "\n",
    "cm = confusion_matrix(y_test_encode, y_pred_test)\n",
    "sns.heatmap(cm, annot=True, fmt='d')\n",
    "plt.xlabel('Predicted')\n",
    "plt.ylabel('Actual')\n",
    "plt.title('Confusion Matrix')\n",
    "plt.show()"
   ],
   "id": "34c0f171f7be5530",
   "outputs": [
    {
     "data": {
      "text/plain": [
       "<Figure size 640x480 with 2 Axes>"
      ],
      "image/png": "[encoded data removed]"
     },
     "metadata": {},
     "output_type": "display_data"
    }
   ],
   "execution_count": 32
  },
  {
   "metadata": {},
   "cell_type": "code",
   "outputs": [],
   "execution_count": null,
   "source": "",
   "id": "66b1c76ce621b963"
  }
 ],
 "metadata": {
  "kernelspec": {
   "display_name": "Python 3",
   "language": "python",
   "name": "python3"
  },
  "language_info": {
   "codemirror_mode": {
    "name": "ipython",
    "version": 2
   },
   "file_extension": ".py",
   "mimetype": "text/x-python",
   "name": "python",
   "nbconvert_exporter": "python",
   "pygments_lexer": "ipython2",
   "version": "2.7.6"
  }
 },
 "nbformat": 4,
 "nbformat_minor": 5
}
